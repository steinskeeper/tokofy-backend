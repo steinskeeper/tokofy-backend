{
  "nbformat": 4,
  "nbformat_minor": 0,
  "metadata": {
    "colab": {
      "name": "random_forest_regression.ipynb",
      "provenance": [],
      "collapsed_sections": []
    },
    "kernelspec": {
      "display_name": "Python 3",
      "language": "python",
      "name": "python3"
    },
    "language_info": {
      "codemirror_mode": {
        "name": "ipython",
        "version": 3
      },
      "file_extension": ".py",
      "mimetype": "text/x-python",
      "name": "python",
      "nbconvert_exporter": "python",
      "pygments_lexer": "ipython3",
      "version": "3.7.3"
    }
  },
  "cells": [
    {
      "cell_type": "markdown",
      "metadata": {
        "id": "LeamvpPVXuS_"
      },
      "source": [
        "# Random Forest Regression"
      ]
    },
    {
      "cell_type": "markdown",
      "metadata": {
        "id": "O2wvZ7SKXzVC"
      },
      "source": [
        "## Importing the libraries"
      ]
    },
    {
      "cell_type": "code",
      "metadata": {
        "id": "PVmESEFZX4Ig"
      },
      "source": [
        "import numpy as np\n",
        "import matplotlib.pyplot as plt\n",
        "import pandas as pd"
      ],
      "execution_count": 73,
      "outputs": []
    },
    {
      "cell_type": "markdown",
      "metadata": {
        "id": "zgbK_F8-X7em"
      },
      "source": [
        "## Importing the dataset"
      ]
    },
    {
      "cell_type": "code",
      "metadata": {
        "colab": {
          "base_uri": "https://localhost:8080/",
          "height": 206
        },
        "id": "adBE4tjQX_Bh",
        "outputId": "89f7d7f6-5629-424a-a394-f20a827fec0b"
      },
      "source": [
        "dataset = pd.read_csv('/content/Sales forecast.csv')\n",
        "testdata=  pd.read_csv('/content/testdata.csv')\n",
        "dataset.head()"
      ],
      "execution_count": 74,
      "outputs": [
        {
          "output_type": "execute_result",
          "data": {
            "text/html": [
              "<div>\n",
              "<style scoped>\n",
              "    .dataframe tbody tr th:only-of-type {\n",
              "        vertical-align: middle;\n",
              "    }\n",
              "\n",
              "    .dataframe tbody tr th {\n",
              "        vertical-align: top;\n",
              "    }\n",
              "\n",
              "    .dataframe thead th {\n",
              "        text-align: right;\n",
              "    }\n",
              "</style>\n",
              "<table border=\"1\" class=\"dataframe\">\n",
              "  <thead>\n",
              "    <tr style=\"text-align: right;\">\n",
              "      <th></th>\n",
              "      <th>StoreNum</th>\n",
              "      <th>ItemID</th>\n",
              "      <th>Sales</th>\n",
              "      <th>Units</th>\n",
              "      <th>Year</th>\n",
              "    </tr>\n",
              "  </thead>\n",
              "  <tbody>\n",
              "    <tr>\n",
              "      <th>0</th>\n",
              "      <td>57</td>\n",
              "      <td>2</td>\n",
              "      <td>679064.37</td>\n",
              "      <td>12885</td>\n",
              "      <td>2016</td>\n",
              "    </tr>\n",
              "    <tr>\n",
              "      <th>1</th>\n",
              "      <td>57</td>\n",
              "      <td>1</td>\n",
              "      <td>1268409.60</td>\n",
              "      <td>23766</td>\n",
              "      <td>2016</td>\n",
              "    </tr>\n",
              "    <tr>\n",
              "      <th>2</th>\n",
              "      <td>57</td>\n",
              "      <td>5</td>\n",
              "      <td>94744.94</td>\n",
              "      <td>4205</td>\n",
              "      <td>2016</td>\n",
              "    </tr>\n",
              "    <tr>\n",
              "      <th>3</th>\n",
              "      <td>57</td>\n",
              "      <td>35</td>\n",
              "      <td>1446.67</td>\n",
              "      <td>87</td>\n",
              "      <td>2016</td>\n",
              "    </tr>\n",
              "    <tr>\n",
              "      <th>4</th>\n",
              "      <td>57</td>\n",
              "      <td>7</td>\n",
              "      <td>1475152.07</td>\n",
              "      <td>24952</td>\n",
              "      <td>2016</td>\n",
              "    </tr>\n",
              "  </tbody>\n",
              "</table>\n",
              "</div>"
            ],
            "text/plain": [
              "   StoreNum  ItemID       Sales  Units   Year\n",
              "0        57       2   679064.37   12885  2016\n",
              "1        57       1  1268409.60   23766  2016\n",
              "2        57       5    94744.94    4205  2016\n",
              "3        57      35     1446.67      87  2016\n",
              "4        57       7  1475152.07   24952  2016"
            ]
          },
          "metadata": {},
          "execution_count": 74
        }
      ]
    },
    {
      "cell_type": "markdown",
      "metadata": {
        "id": "qwiZLLCYvjhT"
      },
      "source": [
        "# Data Preprocessing"
      ]
    },
    {
      "cell_type": "code",
      "metadata": {
        "id": "s5RxmL8XvjhU"
      },
      "source": [
        "data=dataset[['ItemID','Year','Sales']]\n",
        "data.head()\n",
        "X = data.iloc[:,:-1].values"
      ],
      "execution_count": 75,
      "outputs": []
    },
    {
      "cell_type": "code",
      "metadata": {
        "id": "uplQuY7DvjhV",
        "colab": {
          "base_uri": "https://localhost:8080/"
        },
        "outputId": "4771d5a2-1506-4959-9111-6825b85dbff7"
      },
      "source": [
        "X = data.iloc[:,:-1].values\n",
        "y = data.iloc[:,-1].values\n",
        "print(X[0])\n",
        "y[0]"
      ],
      "execution_count": 76,
      "outputs": [
        {
          "output_type": "stream",
          "name": "stdout",
          "text": [
            "[   2 2016]\n"
          ]
        },
        {
          "output_type": "execute_result",
          "data": {
            "text/plain": [
              "679064.37"
            ]
          },
          "metadata": {},
          "execution_count": 76
        }
      ]
    },
    {
      "cell_type": "code",
      "metadata": {
        "id": "nj0EnwVVvjhW"
      },
      "source": [
        "from sklearn.compose import ColumnTransformer\n",
        "from sklearn.preprocessing import OneHotEncoder\n",
        "ct=ColumnTransformer(transformers=[('encoder',OneHotEncoder(),[0,1])],remainder='passthrough',sparse_threshold=0)\n",
        "X=np.array(ct.fit_transform(X))\n"
      ],
      "execution_count": 77,
      "outputs": []
    },
    {
      "cell_type": "markdown",
      "metadata": {
        "id": "ptNjcy7bOBlD"
      },
      "source": [
        "## Splitting the dataset into the Training set and Test set"
      ]
    },
    {
      "cell_type": "code",
      "metadata": {
        "id": "C7NdofoCOFQF"
      },
      "source": [
        "from sklearn.model_selection import train_test_split\n",
        "X_train, X_test, y_train, y_test = train_test_split(X, y, test_size = 0.2, random_state = 0)"
      ],
      "execution_count": 78,
      "outputs": []
    },
    {
      "cell_type": "markdown",
      "metadata": {
        "id": "v4S2fyIBYDcu"
      },
      "source": [
        "## Training the Random Forest Regression model "
      ]
    },
    {
      "cell_type": "code",
      "metadata": {
        "colab": {
          "base_uri": "https://localhost:8080/"
        },
        "id": "o8dOCoJ1YKMc",
        "outputId": "286c1010-de5b-4b9b-c64d-c5734668fe35"
      },
      "source": [
        "from sklearn.ensemble import RandomForestRegressor\n",
        "regressor = RandomForestRegressor(n_estimators = 10, random_state = 0)\n",
        "regressor.fit(X_train, y_train)"
      ],
      "execution_count": 79,
      "outputs": [
        {
          "output_type": "execute_result",
          "data": {
            "text/plain": [
              "RandomForestRegressor(n_estimators=10, random_state=0)"
            ]
          },
          "metadata": {},
          "execution_count": 79
        }
      ]
    },
    {
      "cell_type": "markdown",
      "metadata": {
        "id": "DM_jh0frOPKE"
      },
      "source": [
        "## Predicting the Test set results"
      ]
    },
    {
      "cell_type": "code",
      "metadata": {
        "id": "JGa9ZfM4OTNw",
        "scrolled": false,
        "outputId": "16d3ac93-2536-4452-ade9-75980abd5eff",
        "colab": {
          "base_uri": "https://localhost:8080/"
        }
      },
      "source": [
        "y_pred = regressor.predict(X_test)\n",
        "np.set_printoptions(precision=2)\n",
        "print(np.concatenate((y_pred.reshape(len(y_pred),1), y_test.reshape(len(y_test),1)),1))"
      ],
      "execution_count": 82,
      "outputs": [
        {
          "output_type": "stream",
          "name": "stdout",
          "text": [
            "[[ 1.24e+06  1.05e+06]\n",
            " [ 1.24e+06  1.05e+06]\n",
            " [ 3.47e+05  6.39e+05]\n",
            " [ 2.18e+06  2.25e+06]\n",
            " [ 1.25e+02  4.00e+01]\n",
            " [ 1.55e+06  1.27e+06]\n",
            " [ 3.38e+05  2.29e+05]\n",
            " [ 2.18e+06  2.21e+06]\n",
            " [ 1.44e+03  9.95e+02]\n",
            " [ 2.22e+06  3.66e+06]\n",
            " [ 3.47e+05  3.63e+05]\n",
            " [ 1.25e+02  2.40e+02]\n",
            " [ 3.09e+02  4.00e-02]\n",
            " [ 6.39e+04  5.05e+04]\n",
            " [ 6.39e+04  1.12e+05]\n",
            " [ 1.80e+06  1.28e+06]\n",
            " [ 1.25e+02  3.15e+02]\n",
            " [ 2.06e+06  1.78e+06]\n",
            " [ 3.38e+05  2.60e+05]\n",
            " [ 3.47e+05  2.96e+05]\n",
            " [ 3.47e+05  3.41e+05]\n",
            " [ 2.04e+02  2.38e+02]\n",
            " [ 2.06e+06  2.52e+06]\n",
            " [ 2.06e+06  2.25e+06]\n",
            " [ 3.47e+05  4.31e+05]\n",
            " [ 2.18e+06  1.42e+06]\n",
            " [ 1.19e+03  4.58e+02]\n",
            " [ 2.22e+06  1.17e+06]\n",
            " [ 1.86e+06  2.19e+06]\n",
            " [ 2.18e+06  1.01e+06]\n",
            " [ 1.24e+06  1.69e+06]\n",
            " [ 2.22e+05  2.10e+05]\n",
            " [ 3.47e+05  1.40e+05]\n",
            " [ 6.39e+04  9.00e+04]\n",
            " [ 3.16e+05  2.68e+05]\n",
            " [ 2.18e+06  3.82e+06]\n",
            " [ 1.18e+05  1.32e+05]\n",
            " [ 3.47e+05  2.40e+05]\n",
            " [ 1.43e+06  2.35e+06]\n",
            " [ 2.91e+05  2.03e+05]\n",
            " [ 1.44e+03  9.18e+02]\n",
            " [ 2.63e+05  2.20e+05]\n",
            " [ 3.09e+02  0.00e+00]\n",
            " [ 2.91e+05  2.59e+05]\n",
            " [ 2.91e+05  2.70e+05]\n",
            " [ 3.16e+05  2.29e+05]\n",
            " [ 2.06e+06  3.48e+06]\n",
            " [ 3.16e+05  5.09e+05]\n",
            " [ 7.15e+02  3.07e+02]\n",
            " [ 3.16e+05  3.13e+05]\n",
            " [ 3.16e+05  1.97e+05]\n",
            " [ 1.80e+06  1.63e+06]\n",
            " [ 1.86e+06  2.17e+06]\n",
            " [ 2.63e+05  1.77e+05]\n",
            " [ 3.16e+05  2.57e+05]\n",
            " [ 1.25e+02  1.05e+02]\n",
            " [ 3.38e+05  2.35e+05]\n",
            " [ 3.16e+05  1.86e+05]\n",
            " [ 3.47e+05  5.98e+05]\n",
            " [ 2.22e+06  1.19e+06]\n",
            " [ 3.09e+02  9.00e+02]\n",
            " [ 2.04e+02  1.74e+02]\n",
            " [ 2.22e+06  1.70e+06]\n",
            " [ 2.06e+06  1.41e+06]\n",
            " [ 2.63e+05  2.38e+05]\n",
            " [ 1.24e+06  9.23e+05]\n",
            " [ 7.15e+02  6.36e+02]\n",
            " [ 6.39e+04  6.00e+04]\n",
            " [ 2.65e+05  1.65e+05]\n",
            " [ 2.22e+06  1.34e+06]\n",
            " [ 2.04e+02  9.84e+01]\n",
            " [ 3.16e+05  2.89e+05]\n",
            " [ 1.86e+06  1.35e+06]\n",
            " [ 3.16e+05  6.61e+05]\n",
            " [ 1.25e+02  5.00e+01]\n",
            " [ 3.38e+05  3.98e+05]\n",
            " [ 2.22e+06  1.61e+06]\n",
            " [ 2.22e+06  4.51e+06]\n",
            " [ 6.39e+04  1.40e+05]\n",
            " [ 1.25e+02  5.00e+02]\n",
            " [ 2.63e+05  2.58e+05]\n",
            " [ 1.86e+06  1.22e+06]\n",
            " [ 1.18e+05  1.15e+05]\n",
            " [ 7.15e+02  1.46e+02]\n",
            " [ 3.38e+05  1.92e+05]\n",
            " [ 6.39e+04  1.34e+05]\n",
            " [ 2.63e+05  2.44e+05]\n",
            " [ 1.36e+05  9.47e+04]\n",
            " [ 3.38e+05  2.78e+05]\n",
            " [ 3.09e+02 -3.75e+00]\n",
            " [ 1.18e+05  7.57e+04]\n",
            " [ 2.65e+05  1.41e+05]\n",
            " [ 1.80e+06  1.39e+06]\n",
            " [ 1.18e+05  6.26e+04]\n",
            " [ 3.38e+05  3.60e+05]\n",
            " [ 2.18e+06  1.63e+06]\n",
            " [ 2.22e+06  1.43e+06]\n",
            " [ 1.19e+03  1.71e+03]\n",
            " [ 2.65e+05  1.57e+05]\n",
            " [ 2.91e+05  4.00e+05]\n",
            " [ 3.16e+05  6.23e+05]\n",
            " [ 2.18e+06  2.27e+06]\n",
            " [ 3.16e+05  2.40e+05]\n",
            " [ 2.65e+05  6.44e+05]\n",
            " [ 2.65e+05  2.19e+05]\n",
            " [ 2.18e+06  3.16e+06]\n",
            " [ 6.39e+04  7.64e+04]\n",
            " [ 2.18e+06  3.77e+06]\n",
            " [ 6.39e+04  4.84e+04]\n",
            " [ 1.24e+06  6.94e+05]\n",
            " [ 1.43e+06  7.79e+05]\n",
            " [ 1.80e+06  1.23e+06]\n",
            " [ 2.91e+05  2.76e+05]\n",
            " [ 1.86e+06  1.09e+06]\n",
            " [ 1.43e+06  6.72e+05]\n",
            " [ 1.94e+06  1.81e+06]\n",
            " [ 2.22e+06  1.05e+06]\n",
            " [ 2.65e+05  1.34e+05]\n",
            " [ 1.86e+06  2.48e+06]\n",
            " [ 3.16e+05  1.68e+03]\n",
            " [ 2.22e+06  1.16e+06]\n",
            " [ 3.38e+05  2.49e+05]\n",
            " [ 1.24e+06  6.28e+05]\n",
            " [ 1.86e+06  1.49e+06]\n",
            " [ 3.16e+05  5.37e+05]\n",
            " [ 1.18e+05  1.16e+05]\n",
            " [ 2.65e+05  5.84e+05]\n",
            " [ 3.09e+02  6.30e+02]\n",
            " [ 6.39e+04  9.78e+04]\n",
            " [ 1.18e+05  1.58e+05]\n",
            " [ 2.63e+05  2.22e+05]\n",
            " [ 2.04e+02  6.63e+01]\n",
            " [ 3.09e+02  9.60e+02]\n",
            " [ 2.06e+06  2.22e+06]\n",
            " [ 6.39e+04  6.44e+04]\n",
            " [ 1.18e+05  7.32e+04]\n",
            " [ 2.65e+05  5.50e+05]\n",
            " [ 1.86e+06  1.32e+06]\n",
            " [ 1.24e+06  7.92e+05]\n",
            " [ 1.80e+06  2.77e+06]\n",
            " [ 1.94e+06  1.05e+02]\n",
            " [ 3.16e+05  2.25e+02]\n",
            " [ 1.86e+06  1.48e+06]\n",
            " [ 2.63e+05  2.28e+05]\n",
            " [ 1.25e+02  1.65e+02]\n",
            " [ 3.09e+02  6.00e-02]\n",
            " [ 6.14e+04  7.85e+04]\n",
            " [ 1.18e+05  9.91e+04]\n",
            " [ 1.18e+05  1.14e+05]\n",
            " [ 3.38e+05  6.99e+05]\n",
            " [ 3.16e+05  3.36e+05]\n",
            " [ 2.63e+05  2.84e+05]\n",
            " [ 2.04e+02  3.62e+02]\n",
            " [ 2.18e+06  2.76e+06]\n",
            " [ 2.06e+06  2.38e+06]\n",
            " [ 3.38e+05  2.40e+05]\n",
            " [ 7.15e+02  6.33e+02]\n",
            " [ 1.80e+06  9.43e+05]\n",
            " [ 7.17e+05  7.36e+05]\n",
            " [ 1.43e+06  6.86e+01]\n",
            " [ 1.55e+05  1.17e+05]\n",
            " [ 2.65e+05  1.99e+05]\n",
            " [ 1.19e+03  8.01e+02]\n",
            " [ 1.25e+02  9.50e+01]\n",
            " [ 2.63e+05  4.19e+05]\n",
            " [ 2.65e+05  5.18e+05]\n",
            " [ 2.22e+06  1.74e+06]\n",
            " [ 1.18e+05  6.59e+04]\n",
            " [ 1.25e+02  1.22e+02]\n",
            " [ 1.80e+06  2.02e+06]\n",
            " [ 1.18e+05  1.03e+05]\n",
            " [ 1.43e+06  7.38e+05]\n",
            " [ 2.18e+06  2.03e+06]\n",
            " [ 3.16e+05  2.66e+05]\n",
            " [ 3.47e+05  4.24e+05]\n",
            " [ 6.39e+04  1.30e+05]\n",
            " [ 2.18e+06  1.41e+06]\n",
            " [ 3.47e+05  2.65e+05]\n",
            " [ 7.15e+02  1.08e+03]\n",
            " [ 1.80e+06  1.50e+06]\n",
            " [ 1.19e+03  7.68e+02]\n",
            " [ 1.43e+06  2.54e+06]\n",
            " [ 7.15e+02  2.63e+02]\n",
            " [ 1.80e+06  1.74e+06]\n",
            " [ 2.06e+06  3.23e+06]\n",
            " [ 1.86e+06  1.24e+06]\n",
            " [ 1.19e+03  1.11e+03]\n",
            " [ 3.09e+02  4.80e+02]\n",
            " [ 2.65e+05  2.34e+05]\n",
            " [ 1.18e+05  9.95e+04]\n",
            " [ 2.65e+05  2.38e+05]\n",
            " [ 1.94e+06  8.74e+05]\n",
            " [ 2.22e+06  3.23e+06]\n",
            " [ 1.24e+06  1.15e+06]\n",
            " [ 1.24e+06  7.34e+05]\n",
            " [ 1.18e+05  1.62e+05]\n",
            " [ 1.86e+06  1.80e+06]\n",
            " [ 1.18e+05  1.44e+05]\n",
            " [ 6.39e+04  1.38e+05]\n",
            " [ 3.09e+02  5.00e-02]\n",
            " [ 2.22e+06  1.64e+06]\n",
            " [ 1.19e+03  6.51e+02]\n",
            " [ 3.09e+02  7.60e-01]]\n"
          ]
        }
      ]
    },
    {
      "cell_type": "markdown",
      "metadata": {
        "id": "Cd8VZM5POWXN"
      },
      "source": [
        "## Evaluating the Model Performance"
      ]
    },
    {
      "cell_type": "code",
      "metadata": {
        "colab": {
          "base_uri": "https://localhost:8080/"
        },
        "id": "a7y1rXlfOZJo",
        "outputId": "f6c716c0-ea88-487a-a4a2-b8db971b3412"
      },
      "source": [
        "from sklearn.metrics import r2_score\n",
        "r2_score(y_test, y_pred)\n",
        "X_test"
      ],
      "execution_count": 83,
      "outputs": [
        {
          "output_type": "execute_result",
          "data": {
            "text/plain": [
              "array([[0., 1., 0., ..., 1., 0., 0.],\n",
              "       [0., 1., 0., ..., 1., 0., 0.],\n",
              "       [0., 0., 1., ..., 0., 1., 0.],\n",
              "       ...,\n",
              "       [0., 0., 0., ..., 1., 0., 0.],\n",
              "       [0., 0., 0., ..., 0., 1., 0.],\n",
              "       [0., 0., 0., ..., 1., 0., 0.]])"
            ]
          },
          "metadata": {},
          "execution_count": 83
        }
      ]
    },
    {
      "cell_type": "code",
      "metadata": {
        "id": "QP5AENWTvjhb",
        "colab": {
          "base_uri": "https://localhost:8080/",
          "height": 276
        },
        "outputId": "b309aba3-2e2b-4857-8b64-49365cdc41ed"
      },
      "source": [
        "#plotting predicted Vs actual values of test dataset\n",
        "fig, ax = plt.subplots()  \n",
        "ax.plot(y_test)\n",
        "ax.plot(y_pred, color='red')\n",
        "    \n",
        "ax.xaxis.zoom(3) \n",
        "   \n",
        "ax.grid()"
      ],
      "execution_count": 84,
      "outputs": [
        {
          "output_type": "display_data",
          "data": {
            "image/png": "[encoded data removed]",
            "text/plain": [
              "<Figure size 432x288 with 1 Axes>"
            ]
          },
          "metadata": {
            "needs_background": "light"
          }
        }
      ]
    },
    {
      "cell_type": "code",
      "metadata": {
        "id": "nG8ue8Uwvjhb",
        "colab": {
          "base_uri": "https://localhost:8080/"
        },
        "outputId": "d5693bf2-9726-40a4-87b6-0c44dab9551b"
      },
      "source": [
        "from sklearn.model_selection import cross_val_score\n",
        "accuracies = cross_val_score(estimator = regressor, X = X_train, y = y_train, cv = 10)\n",
        "print(\"Accuracy: {:.2f} %\".format(accuracies.mean()*100))\n",
        "print(\"Standard Deviation: {:.2f} %\".format(accuracies.std()*100))"
      ],
      "execution_count": 85,
      "outputs": [
        {
          "output_type": "stream",
          "name": "stdout",
          "text": [
            "Accuracy: 71.18 %\n",
            "Standard Deviation: 4.98 %\n"
          ]
        }
      ]
    }
  ]
}